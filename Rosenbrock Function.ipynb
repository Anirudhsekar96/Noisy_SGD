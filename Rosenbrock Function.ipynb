{
 "cells": [
  {
   "cell_type": "code",
   "execution_count": 3,
   "metadata": {},
   "outputs": [],
   "source": [
    "# Inspired Heavily from https://github.com/Healbadbad/curveball-pytorch/blob/master/optimizer-tests.py"
   ]
  },
  {
   "cell_type": "code",
   "execution_count": 10,
   "metadata": {},
   "outputs": [
    {
     "name": "stdout",
     "output_type": "stream",
     "text": [
      "--------- SGD  ---------\n",
      "SGD iterations: 3977\n",
      "uv= tensor([0.9294, 0.8636], requires_grad=True)\n",
      "GGDO iterations: 3977\n",
      "uv= tensor([0.9294, 0.8635], requires_grad=True)\n",
      "\n",
      "\n",
      "SGD iterations: 3977\n",
      "sgduv= tensor([0.9294, 0.8636], requires_grad=True)\n",
      "GGDO iterations: 3987\n",
      "uv= tensor([0.9294, 0.8635], requires_grad=True)\n"
     ]
    }
   ],
   "source": [
    "import torch\n",
    "from torch.autograd import Variable\n",
    "from torch.autograd import grad\n",
    "#from curveball import Curveball\n",
    "\n",
    "def rosenbrock(u, v, noise_range=1):\n",
    "    noise = torch.rand(1) * noise_range + 1\n",
    "    return (1-u) ** 2 + 100 * noise * (v - u ** 2)**2\n",
    "\n",
    "# SGD\n",
    "print(\"--------- SGD  ---------\")\n",
    "\n",
    "uv = torch.tensor([-0.25, -0.25], requires_grad = True)\n",
    "\n",
    "optimizer = torch.optim.SGD([uv], lr = 0.001)\n",
    "i = 0\n",
    "loss = 99999\n",
    "while loss > 0.005:\n",
    "    i+=1\n",
    "    optimizer.zero_grad()\n",
    "    loss = rosenbrock(uv[0], uv[1])\n",
    "    #loss_sum.backward(torch.ones_like(w))\n",
    "    loss.backward()\n",
    "    optimizer.step()\n",
    "print(\"SGD iterations:\", i)\n",
    "print(\"uv=\", uv)\n",
    "sgduv = uv\n",
    "\n",
    "\n",
    "\n",
    "\n",
    "\n",
    "\n",
    "uv = torch.tensor([-0.25, -0.25], requires_grad = True)\n",
    "\n",
    "optimizer = ggdo2.GGDO([uv], lr = 0.001,noise=0.1,momentum=0.9,weight_decay=5e-4)\n",
    "j = 0\n",
    "loss = 99999\n",
    "while loss > 0.005:\n",
    "    j+=1\n",
    "    optimizer.zero_grad()\n",
    "    loss = rosenbrock(uv[0], uv[1])\n",
    "    #loss_sum.backward(torch.ones_like(w))\n",
    "    loss.backward()\n",
    "    optimizer.step()\n",
    "print(\"GGDO iterations:\", i)\n",
    "print(\"uv=\", uv)\n",
    "\n",
    "print('\\n')\n",
    "print(\"SGD iterations:\", i)\n",
    "print(\"sgduv=\", sgduv)\n",
    "print(\"GGDO iterations:\", j)\n",
    "print(\"uv=\", uv)"
   ]
  },
  {
   "cell_type": "code",
   "execution_count": null,
   "metadata": {},
   "outputs": [],
   "source": []
  }
 ],
 "metadata": {
  "kernelspec": {
   "display_name": "Python 3",
   "language": "python",
   "name": "python3"
  },
  "language_info": {
   "codemirror_mode": {
    "name": "ipython",
    "version": 3
   },
   "file_extension": ".py",
   "mimetype": "text/x-python",
   "name": "python",
   "nbconvert_exporter": "python",
   "pygments_lexer": "ipython3",
   "version": "3.6.8"
  }
 },
 "nbformat": 4,
 "nbformat_minor": 2
}
